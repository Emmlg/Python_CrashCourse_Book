{
 "cells": [
  {
   "cell_type": "markdown",
   "metadata": {},
   "source": [
    "##                  Capitulo 2"
   ]
  },
  {
   "cell_type": "markdown",
   "metadata": {},
   "source": [
    "2.3\n",
    "\n",
    "Personal Message: Store a person’s name in a variable, and print a message\n",
    "to that person. Your message should be simple, \n",
    "such as, “Hello Eric,would you like to learn some Python today?”\n",
    " when we save a String variable u most not declarate\n",
    "\n"
   ]
  },
  {
   "cell_type": "code",
   "execution_count": 2,
   "metadata": {},
   "outputs": [
    {
     "name": "stdout",
     "output_type": "stream",
     "text": [
      "hello  \n"
     ]
    }
   ],
   "source": [
    "name=input('¿cómo te llamas ? ')\n",
    "print('hello ',name)"
   ]
  },
  {
   "cell_type": "markdown",
   "metadata": {},
   "source": [
    "2.4         \n",
    "Name Cases: Store a person’s name in a variable, and then print that person’s           \n",
    "name in lowercase, uppercase, and titlecase."
   ]
  },
  {
   "cell_type": "code",
   "execution_count": null,
   "metadata": {},
   "outputs": [],
   "source": []
  },
  {
   "cell_type": "markdown",
   "metadata": {},
   "source": [
    "2.5         \n",
    "Famous Quote: Find a quote from a famous person you admire. Print the           \n",
    "quote and the name of its author. Your output should look something like the        \n",
    "following, including the quotation marks:           \n",
    "Albert Einstein once said, “A person who never made a mistake never tried anything new.”      \n",
    "\n"
   ]
  },
  {
   "cell_type": "code",
   "execution_count": 3,
   "metadata": {},
   "outputs": [
    {
     "name": "stdout",
     "output_type": "stream",
     "text": [
      "Albert Einstain once said, \"A persono who never made a mistake never tried anything new.\"\n"
     ]
    }
   ],
   "source": [
    "print('Albert Einstain once said, \"A persono who never made a mistake never tried anything new.\"')"
   ]
  }
 ],
 "metadata": {
  "kernelspec": {
   "display_name": "Python 3.10.4 64-bit",
   "language": "python",
   "name": "python3"
  },
  "language_info": {
   "codemirror_mode": {
    "name": "ipython",
    "version": 3
   },
   "file_extension": ".py",
   "mimetype": "text/x-python",
   "name": "python",
   "nbconvert_exporter": "python",
   "pygments_lexer": "ipython3",
   "version": "3.10.4"
  },
  "orig_nbformat": 4,
  "vscode": {
   "interpreter": {
    "hash": "9d9e0ed60639f970e7a4a058f7668d5c3e5f07a952b8a1c8270e439f78d6958e"
   }
  }
 },
 "nbformat": 4,
 "nbformat_minor": 2
}
